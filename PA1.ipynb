{
 "cells": [
  {
   "cell_type": "markdown",
   "metadata": {},
   "source": [
    "# Programming Assignment 1\n",
    "Sheridan Payne\n",
    "\n",
    "August 31, 2020"
   ]
  },
  {
   "cell_type": "code",
   "execution_count": 35,
   "metadata": {},
   "outputs": [
    {
     "name": "stdout",
     "output_type": "stream",
     "text": [
      "Enter a floating point number: 44.3\n"
     ]
    }
   ],
   "source": [
    "floatnum = float(input(\"Enter a floating point number: \"))"
   ]
  },
  {
   "cell_type": "code",
   "execution_count": 37,
   "metadata": {},
   "outputs": [
    {
     "name": "stdout",
     "output_type": "stream",
     "text": [
      "Enter an integer: 16\n"
     ]
    }
   ],
   "source": [
    "intnum = int(input(\"Enter an integer: \"))"
   ]
  },
  {
   "cell_type": "code",
   "execution_count": 38,
   "metadata": {},
   "outputs": [],
   "source": [
    "sum = floatnum + intnum\n",
    "diff = floatnum - intnum\n",
    "product = floatnum * intnum\n",
    "quotient = floatnum / intnum"
   ]
  },
  {
   "cell_type": "code",
   "execution_count": 45,
   "metadata": {},
   "outputs": [
    {
     "name": "stdout",
     "output_type": "stream",
     "text": [
      "The sum is 60.3\n",
      "The difference is 28.299999999999997\n",
      "The product is 708.8\n",
      "The quotient is 2.76875\n",
      "The type for the result is <class 'float'>\n"
     ]
    }
   ],
   "source": [
    "print(\"The sum is\",sum)\n",
    "print(\"The difference is\", diff)\n",
    "print(\"The product is\", product)\n",
    "print(\"The quotient is\", quotient)\n",
    "print(\"The type for the result is\", type(quotient))"
   ]
  }
 ],
 "metadata": {
  "kernelspec": {
   "display_name": "Python 3",
   "language": "python",
   "name": "python3"
  },
  "language_info": {
   "codemirror_mode": {
    "name": "ipython",
    "version": 3
   },
   "file_extension": ".py",
   "mimetype": "text/x-python",
   "name": "python",
   "nbconvert_exporter": "python",
   "pygments_lexer": "ipython3",
   "version": "3.8.3"
  }
 },
 "nbformat": 4,
 "nbformat_minor": 4
}
